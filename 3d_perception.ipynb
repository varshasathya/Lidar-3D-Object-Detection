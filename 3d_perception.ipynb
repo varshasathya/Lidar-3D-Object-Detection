{
 "cells": [
  {
   "cell_type": "code",
   "execution_count": 4,
   "metadata": {},
   "outputs": [
    {
     "name": "stdout",
     "output_type": "stream",
     "text": [
      "Jupyter environment detected. Enabling Open3D WebVisualizer.\n",
      "[Open3D INFO] WebRTC GUI backend enabled.\n",
      "[Open3D INFO] WebRTCWindowSystem: HTTP handshake server disabled.\n"
     ]
    }
   ],
   "source": [
    "import numpy as np\n",
    "import time\n",
    "import open3d\n",
    "import pandas as pd\n",
    "import matplotlib.pyplot as plt"
   ]
  },
  {
   "cell_type": "code",
   "execution_count": 1,
   "metadata": {},
   "outputs": [],
   "source": [
    "def pcl_pipeline(pcd):\n",
    "    pcd = open3d.io.read_point_cloud(pcd)\n",
    "    pcd_down = pcd.voxel_down_sample(voxel_size = 0.25)\n",
    "    plane_model, inliers = pcd.segment_plane(distance_threshold=0.30,\n",
    "                                         ransac_n=3,\n",
    "                                             num_iterations=150)\n",
    "    [a, b, c, d] = plane_model\n",
    "    \n",
    "    inlier_cloud = pcd.select_by_index(inliers)\n",
    "    inlier_cloud.paint_uniform_color([0, 1.0, 1.0])\n",
    "    outlier_cloud = pcd.select_by_index(inliers, invert=True)\n",
    "    outlier_cloud.paint_uniform_color([1.0, 0, 0])\n",
    "    with open3d.utility.VerbosityContextManager(open3d.utility.VerbosityLevel.Debug) as cm:\n",
    "        labels = np.array(outlier_cloud.cluster_dbscan(eps=0.45, min_points=7, print_progress=True))\n",
    "\n",
    "    max_label = labels.max()\n",
    "    colors = plt.get_cmap(\"tab20\")(labels / (max_label if max_label > 0 else 1))\n",
    "    colors[labels < 0] = 0\n",
    "    outlier_cloud.colors = open3d.utility.Vector3dVector(colors[:, :3])\n",
    "    obbs = []\n",
    "    indexes = pd.Series(range(len(labels))).groupby(labels,sort = False).apply(list).tolist()\n",
    "\n",
    "    max_points = 300\n",
    "    min_points = 40\n",
    "\n",
    "    for i in range(0,len(indexes)):\n",
    "        nb_points = len(outlier_cloud.select_by_index(indexes[i]).points)\n",
    "        if (nb_points > min_points and nb_points < max_points):\n",
    "            sub_cloud = outlier_cloud.select_by_index(indexes[i])\n",
    "            obb = sub_cloud.get_axis_aligned_bounding_box()\n",
    "            obb.color = (0,0,1)\n",
    "            obbs.append(obb)\n",
    "    \n",
    "    list_of_visuals = []\n",
    "    list_of_visuals.append(outlier_cloud)\n",
    "    list_of_visuals.extend(obbs)\n",
    "    list_of_visuals.append(inlier_cloud)\n",
    "    return list_of_visuals"
   ]
  },
  {
   "cell_type": "code",
   "execution_count": 2,
   "metadata": {},
   "outputs": [],
   "source": [
    "import glob\n",
    "import cv2\n",
    "video_points = sorted(glob.glob(\"test_files/KITTI/*.pcd\"))"
   ]
  },
  {
   "cell_type": "code",
   "execution_count": 9,
   "metadata": {},
   "outputs": [
    {
     "name": "stdout",
     "output_type": "stream",
     "text": [
      "1\n",
      "[Open3D DEBUG] Precompute neighbors.\n",
      "[Open3D DEBUG] Done Precompute neighbors.\n",
      "[Open3D DEBUG] Compute Clusters\n",
      "[Open3D DEBUG] Done Compute Clusters: 137\n",
      "2\n"
     ]
    },
    {
     "ename": "TypeError",
     "evalue": "add_geometry(): incompatible function arguments. The following argument types are supported:\n    1. (self: open3d.cpu.pybind.visualization.Visualizer, geometry: open3d.cpu.pybind.geometry.Geometry, reset_bounding_box: bool = True) -> bool\n\nInvoked with: Visualizer with name Open3D, [PointCloud with 59292 points., AxisAlignedBoundingBox: min: (54.738, -5.231, -0.584), max: (56.548, 3.215, 2.089), AxisAlignedBoundingBox: min: (55.199, 0.748, 0.119), max: (56.623, 2.878, 2.107), AxisAlignedBoundingBox: min: (13.36, 18.525, 0.445), max: (14.486, 19.737, 1.013), AxisAlignedBoundingBox: min: (11.454, 19.385, 0.439), max: (12.968, 19.929, 0.998), AxisAlignedBoundingBox: min: (-2.932, 14.152, 0.535), max: (1.194, 14.92, 0.723), AxisAlignedBoundingBox: min: (-18.643, 16.603, 0.285), max: (-17.116, 17.019, 1.046), AxisAlignedBoundingBox: min: (-22.641, 18.951, -0.023), max: (-21.092, 19.214, 1.211), AxisAlignedBoundingBox: min: (-33.912, 20.493, -0.916), max: (-24.397, 21.232, 1.553), AxisAlignedBoundingBox: min: (-18.379, -1.693, -0.489), max: (-16.296, 0.963, 0.793), AxisAlignedBoundingBox: min: (-10.991, -38.824, -0.09), max: (-6.205, -35.798, 1.546), AxisAlignedBoundingBox: min: (8.55, -7.405, -1.062), max: (8.749, -7.179, 0.595), AxisAlignedBoundingBox: min: (19.228, -14.256, 0.169), max: (23.012, -12.53, 1.1), AxisAlignedBoundingBox: min: (-27.501, 16.234, -0.045), max: (-26.783, 17.59, 0.95), AxisAlignedBoundingBox: min: (33.185, -13.611, 0.15), max: (34.265, -12.096, 0.761), AxisAlignedBoundingBox: min: (34.469, -12.578, -0.781), max: (36.132, -11.335, 0.779), AxisAlignedBoundingBox: min: (-22.781, -1.515, -1.436), max: (-19.935, 0.883, 0.43), AxisAlignedBoundingBox: min: (14.228, -10.65, 0.179), max: (15.576, -9.31, 0.392), AxisAlignedBoundingBox: min: (-22.8, 15.862, -1.539), max: (-22.128, 17.014, 0.295), AxisAlignedBoundingBox: min: (-43.746, 13.804, -1.822), max: (-42.659, 15.492, 0.352), AxisAlignedBoundingBox: min: (21.512, -9.326, -0.979), max: (22.429, -7.749, 0.17), AxisAlignedBoundingBox: min: (-19.404, 14.061, -1.589), max: (-18.338, 15.43, 0.017), AxisAlignedBoundingBox: min: (15.849, -6.956, -1.037), max: (16.863, -6.552, 0.067), AxisAlignedBoundingBox: min: (15.792, -3.075, -1.004), max: (17.077, -2.383, 0.069), AxisAlignedBoundingBox: min: (8.131, 11.803, -0.722), max: (9.425, 13.017, -0.006), AxisAlignedBoundingBox: min: (-6.585, -22.992, -0.962), max: (-2.485, -21.718, -0.107), AxisAlignedBoundingBox: min: (-7.04, -25.351, -0.8), max: (-3.568, -24.417, -0.476), AxisAlignedBoundingBox: min: (-6.852, -24.131, -0.892), max: (-3.31, -23.445, -0.582), AxisAlignedBoundingBox: min: (-7.464, -26.726, -0.678), max: (-3.999, -26.188, -0.644), AxisAlignedBoundingBox: min: (-19.438, -1.034, -1.474), max: (-17.498, 0.393, -1.082), AxisAlignedBoundingBox: min: (3.409, -28.501, -3.9), max: (5.464, -27.965, -2.577), AxisAlignedBoundingBox: min: (-0.658, -19.575, -3.767), max: (2.322, -16.127, -1.748), AxisAlignedBoundingBox: min: (-11.435, -10.65, -2.051), max: (-10.614, -8.703, -1.936), AxisAlignedBoundingBox: min: (1.366, -16.19, -3.72), max: (2.931, -14.423, -2.298), PointCloud with 66343 points.]",
     "output_type": "error",
     "traceback": [
      "\u001b[1;31m---------------------------------------------------------------------------\u001b[0m",
      "\u001b[1;31mTypeError\u001b[0m                                 Traceback (most recent call last)",
      "\u001b[1;32m<ipython-input-9-e67774da3ad6>\u001b[0m in \u001b[0;36m<module>\u001b[1;34m\u001b[0m\n\u001b[0;32m      7\u001b[0m     \u001b[0mlist_of_visuals\u001b[0m \u001b[1;33m=\u001b[0m \u001b[0mpcl_pipeline\u001b[0m\u001b[1;33m(\u001b[0m\u001b[0mfile2\u001b[0m\u001b[1;33m)\u001b[0m\u001b[1;33m\u001b[0m\u001b[1;33m\u001b[0m\u001b[0m\n\u001b[0;32m      8\u001b[0m     \u001b[0mprint\u001b[0m\u001b[1;33m(\u001b[0m\u001b[1;36m2\u001b[0m\u001b[1;33m)\u001b[0m\u001b[1;33m\u001b[0m\u001b[1;33m\u001b[0m\u001b[0m\n\u001b[1;32m----> 9\u001b[1;33m     \u001b[0mvis\u001b[0m\u001b[1;33m.\u001b[0m\u001b[0madd_geometry\u001b[0m\u001b[1;33m(\u001b[0m\u001b[0mlist_of_visuals\u001b[0m\u001b[1;33m)\u001b[0m\u001b[1;33m\u001b[0m\u001b[1;33m\u001b[0m\u001b[0m\n\u001b[0m\u001b[0;32m     10\u001b[0m     \u001b[0mprint\u001b[0m\u001b[1;33m(\u001b[0m\u001b[1;36m3\u001b[0m\u001b[1;33m)\u001b[0m\u001b[1;33m\u001b[0m\u001b[1;33m\u001b[0m\u001b[0m\n\u001b[0;32m     11\u001b[0m     \u001b[0mvis\u001b[0m\u001b[1;33m.\u001b[0m\u001b[0mupdate_geometry\u001b[0m\u001b[1;33m(\u001b[0m\u001b[0mlist_of_visuals\u001b[0m\u001b[1;33m)\u001b[0m\u001b[1;33m\u001b[0m\u001b[1;33m\u001b[0m\u001b[0m\n",
      "\u001b[1;31mTypeError\u001b[0m: add_geometry(): incompatible function arguments. The following argument types are supported:\n    1. (self: open3d.cpu.pybind.visualization.Visualizer, geometry: open3d.cpu.pybind.geometry.Geometry, reset_bounding_box: bool = True) -> bool\n\nInvoked with: Visualizer with name Open3D, [PointCloud with 59292 points., AxisAlignedBoundingBox: min: (54.738, -5.231, -0.584), max: (56.548, 3.215, 2.089), AxisAlignedBoundingBox: min: (55.199, 0.748, 0.119), max: (56.623, 2.878, 2.107), AxisAlignedBoundingBox: min: (13.36, 18.525, 0.445), max: (14.486, 19.737, 1.013), AxisAlignedBoundingBox: min: (11.454, 19.385, 0.439), max: (12.968, 19.929, 0.998), AxisAlignedBoundingBox: min: (-2.932, 14.152, 0.535), max: (1.194, 14.92, 0.723), AxisAlignedBoundingBox: min: (-18.643, 16.603, 0.285), max: (-17.116, 17.019, 1.046), AxisAlignedBoundingBox: min: (-22.641, 18.951, -0.023), max: (-21.092, 19.214, 1.211), AxisAlignedBoundingBox: min: (-33.912, 20.493, -0.916), max: (-24.397, 21.232, 1.553), AxisAlignedBoundingBox: min: (-18.379, -1.693, -0.489), max: (-16.296, 0.963, 0.793), AxisAlignedBoundingBox: min: (-10.991, -38.824, -0.09), max: (-6.205, -35.798, 1.546), AxisAlignedBoundingBox: min: (8.55, -7.405, -1.062), max: (8.749, -7.179, 0.595), AxisAlignedBoundingBox: min: (19.228, -14.256, 0.169), max: (23.012, -12.53, 1.1), AxisAlignedBoundingBox: min: (-27.501, 16.234, -0.045), max: (-26.783, 17.59, 0.95), AxisAlignedBoundingBox: min: (33.185, -13.611, 0.15), max: (34.265, -12.096, 0.761), AxisAlignedBoundingBox: min: (34.469, -12.578, -0.781), max: (36.132, -11.335, 0.779), AxisAlignedBoundingBox: min: (-22.781, -1.515, -1.436), max: (-19.935, 0.883, 0.43), AxisAlignedBoundingBox: min: (14.228, -10.65, 0.179), max: (15.576, -9.31, 0.392), AxisAlignedBoundingBox: min: (-22.8, 15.862, -1.539), max: (-22.128, 17.014, 0.295), AxisAlignedBoundingBox: min: (-43.746, 13.804, -1.822), max: (-42.659, 15.492, 0.352), AxisAlignedBoundingBox: min: (21.512, -9.326, -0.979), max: (22.429, -7.749, 0.17), AxisAlignedBoundingBox: min: (-19.404, 14.061, -1.589), max: (-18.338, 15.43, 0.017), AxisAlignedBoundingBox: min: (15.849, -6.956, -1.037), max: (16.863, -6.552, 0.067), AxisAlignedBoundingBox: min: (15.792, -3.075, -1.004), max: (17.077, -2.383, 0.069), AxisAlignedBoundingBox: min: (8.131, 11.803, -0.722), max: (9.425, 13.017, -0.006), AxisAlignedBoundingBox: min: (-6.585, -22.992, -0.962), max: (-2.485, -21.718, -0.107), AxisAlignedBoundingBox: min: (-7.04, -25.351, -0.8), max: (-3.568, -24.417, -0.476), AxisAlignedBoundingBox: min: (-6.852, -24.131, -0.892), max: (-3.31, -23.445, -0.582), AxisAlignedBoundingBox: min: (-7.464, -26.726, -0.678), max: (-3.999, -26.188, -0.644), AxisAlignedBoundingBox: min: (-19.438, -1.034, -1.474), max: (-17.498, 0.393, -1.082), AxisAlignedBoundingBox: min: (3.409, -28.501, -3.9), max: (5.464, -27.965, -2.577), AxisAlignedBoundingBox: min: (-0.658, -19.575, -3.767), max: (2.322, -16.127, -1.748), AxisAlignedBoundingBox: min: (-11.435, -10.65, -2.051), max: (-10.614, -8.703, -1.936), AxisAlignedBoundingBox: min: (1.366, -16.19, -3.72), max: (2.931, -14.423, -2.298), PointCloud with 66343 points.]"
     ]
    }
   ],
   "source": [
    "# video_points = sorted(glob.glob(\"test_files/KITTI/*.pcd\"))\n",
    "vis = open3d.visualization.Visualizer()\n",
    "vis.create_window()\n",
    "\n",
    "for idx, file2 in enumerate(video_points):\n",
    "    list_of_visuals = pcl_pipeline(file2)\n",
    "    vis.add_geometry(list_of_visuals)\n",
    "    vis.update_geometry(list_of_visuals)\n",
    "    vis.update_renderer()\n",
    "    vis.poll_events()\n",
    "    vis.update_renderer()\n",
    "    vis.remove_geometry(list_of_visuals)\n",
    "vis.destroy_window()"
   ]
  },
  {
   "cell_type": "code",
   "execution_count": 7,
   "metadata": {},
   "outputs": [
    {
     "name": "stdout",
     "output_type": "stream",
     "text": [
      "0\n",
      "[Open3D DEBUG] Precompute neighbors.\n",
      "[Open3D DEBUG] Done Precompute neighbors.\n",
      "[Open3D DEBUG] Compute Clusters\n",
      "[Open3D DEBUG] Done Compute Clusters: 141\n",
      "1\n",
      "[Open3D DEBUG] Precompute neighbors.\n",
      "[Open3D DEBUG] Done Precompute neighbors.\n",
      "[Open3D DEBUG] Compute Clusters\n",
      "[Open3D DEBUG] Done Compute Clusters: 223\n",
      "2\n",
      "[Open3D DEBUG] Precompute neighbors.\n",
      "[Open3D DEBUG] Done Precompute neighbors.\n",
      "[Open3D DEBUG] Compute Clusters\n",
      "[Open3D DEBUG] Done Compute Clusters: 301\n",
      "3\n",
      "[Open3D DEBUG] Precompute neighbors.\n",
      "[Open3D DEBUG] Done Precompute neighbors.\n",
      "[Open3D DEBUG] Compute Clusters\n",
      "[Open3D DEBUG] Done Compute Clusters: 58\n",
      "4\n",
      "[Open3D DEBUG] Precompute neighbors.\n",
      "[Open3D DEBUG] Done Precompute neighbors.\n",
      "[Open3D DEBUG] Compute Clusters\n",
      "[Open3D DEBUG] Done Compute Clusters: 253\n",
      "5\n",
      "[Open3D DEBUG] Precompute neighbors.\n",
      "[Open3D DEBUG] Done Precompute neighbors.\n",
      "[Open3D DEBUG] Compute Clusters\n",
      "[Open3D DEBUG] Done Compute Clusters: 172\n",
      "6\n",
      "[Open3D DEBUG] Precompute neighbors.\n",
      "[Open3D DEBUG] Done Precompute neighbors.\n",
      "[Open3D DEBUG] Compute Clusters\n",
      "[Open3D DEBUG] Done Compute Clusters: 259\n",
      "7\n",
      "[Open3D DEBUG] Precompute neighbors.\n",
      "[Open3D DEBUG] Done Precompute neighbors.\n",
      "[Open3D DEBUG] Compute Clusters\n",
      "[Open3D DEBUG] Done Compute Clusters: 272\n",
      "8\n",
      "[Open3D DEBUG] Precompute neighbors.\n",
      "[Open3D DEBUG] Done Precompute neighbors.\n",
      "[Open3D DEBUG] Compute Clusters\n",
      "[Open3D DEBUG] Done Compute Clusters: 236\n",
      "9\n",
      "[Open3D DEBUG] Precompute neighbors.\n",
      "[Open3D DEBUG] Done Precompute neighbors.\n",
      "[Open3D DEBUG] Compute Clusters\n",
      "[Open3D DEBUG] Done Compute Clusters: 144\n",
      "10\n",
      "[Open3D DEBUG] Precompute neighbors.\n",
      "[Open3D DEBUG] Done Precompute neighbors.\n",
      "[Open3D DEBUG] Compute Clusters\n",
      "[Open3D DEBUG] Done Compute Clusters: 175\n",
      "11\n",
      "[Open3D DEBUG] Precompute neighbors.\n",
      "[Open3D DEBUG] Done Precompute neighbors.\n",
      "[Open3D DEBUG] Compute Clusters\n",
      "[Open3D DEBUG] Done Compute Clusters: 173\n",
      "12\n",
      "[Open3D DEBUG] Precompute neighbors.\n",
      "[Open3D DEBUG] Done Precompute neighbors.\n",
      "[Open3D DEBUG] Compute Clusters\n",
      "[Open3D DEBUG] Done Compute Clusters: 95\n",
      "13\n",
      "[Open3D DEBUG] Precompute neighbors.\n",
      "[Open3D DEBUG] Done Precompute neighbors.\n",
      "[Open3D DEBUG] Compute Clusters\n",
      "[Open3D DEBUG] Done Compute Clusters: 396\n",
      "14\n",
      "[Open3D DEBUG] Precompute neighbors.\n",
      "[Open3D DEBUG] Done Precompute neighbors.\n",
      "[Open3D DEBUG] Compute Clusters\n",
      "[Open3D DEBUG] Done Compute Clusters: 167\n",
      "15\n",
      "[Open3D DEBUG] Precompute neighbors.\n",
      "[Open3D DEBUG] Done Precompute neighbors.\n",
      "[Open3D DEBUG] Compute Clusters\n",
      "[Open3D DEBUG] Done Compute Clusters: 248\n",
      "16\n",
      "[Open3D DEBUG] Precompute neighbors.\n",
      "[Open3D DEBUG] Done Precompute neighbors.\n",
      "[Open3D DEBUG] Compute Clusters\n",
      "[Open3D DEBUG] Done Compute Clusters: 201\n",
      "17\n",
      "[Open3D DEBUG] Precompute neighbors.\n",
      "[Open3D DEBUG] Done Precompute neighbors.\n",
      "[Open3D DEBUG] Compute Clusters\n",
      "[Open3D DEBUG] Done Compute Clusters: 270\n",
      "18\n",
      "[Open3D DEBUG] Precompute neighbors.\n",
      "[Open3D DEBUG] Done Precompute neighbors.\n",
      "[Open3D DEBUG] Compute Clusters\n",
      "[Open3D DEBUG] Done Compute Clusters: 277\n",
      "19\n",
      "[Open3D DEBUG] Precompute neighbors.\n",
      "[Open3D DEBUG] Done Precompute neighbors.\n",
      "[Open3D DEBUG] Compute Clusters\n",
      "[Open3D DEBUG] Done Compute Clusters: 352\n",
      "20\n",
      "[Open3D DEBUG] Precompute neighbors.\n",
      "[Open3D DEBUG] Done Precompute neighbors.\n",
      "[Open3D DEBUG] Compute Clusters\n",
      "[Open3D DEBUG] Done Compute Clusters: 176\n"
     ]
    }
   ],
   "source": [
    "result_video = []\n",
    "for ids, pts in enumerate(video_points):\n",
    "    print(ids)\n",
    "    pc = open3d.io.read_point_cloud(video_points[ids])\n",
    "    result_video.append(pcl_pipeline(pc))\n",
    "    "
   ]
  },
  {
   "cell_type": "code",
   "execution_count": null,
   "metadata": {},
   "outputs": [],
   "source": []
  },
  {
   "cell_type": "code",
   "execution_count": 8,
   "metadata": {},
   "outputs": [],
   "source": [
    "open3d.visualization.draw_geometries(result_video[0])"
   ]
  },
  {
   "cell_type": "code",
   "execution_count": 9,
   "metadata": {},
   "outputs": [
    {
     "ename": "TypeError",
     "evalue": "Expected Ptr<cv::UMat> for argument 'image'",
     "output_type": "error",
     "traceback": [
      "\u001b[1;31m---------------------------------------------------------------------------\u001b[0m",
      "\u001b[1;31mTypeError\u001b[0m                                 Traceback (most recent call last)",
      "\u001b[1;32m<ipython-input-9-c73a8557861b>\u001b[0m in \u001b[0;36m<module>\u001b[1;34m\u001b[0m\n\u001b[0;32m      1\u001b[0m \u001b[0mout\u001b[0m \u001b[1;33m=\u001b[0m \u001b[0mcv2\u001b[0m\u001b[1;33m.\u001b[0m\u001b[0mVideoWriter\u001b[0m\u001b[1;33m(\u001b[0m\u001b[1;34m\"output.avi\"\u001b[0m\u001b[1;33m,\u001b[0m\u001b[0mcv2\u001b[0m\u001b[1;33m.\u001b[0m\u001b[0mVideoWriter_fourcc\u001b[0m\u001b[1;33m(\u001b[0m\u001b[1;33m*\u001b[0m\u001b[1;34m\"DIVX\"\u001b[0m\u001b[1;33m)\u001b[0m\u001b[1;33m,\u001b[0m\u001b[1;36m15\u001b[0m\u001b[1;33m,\u001b[0m\u001b[1;33m(\u001b[0m\u001b[1;36m96\u001b[0m\u001b[1;33m,\u001b[0m\u001b[1;36m96\u001b[0m\u001b[1;33m)\u001b[0m\u001b[1;33m)\u001b[0m\u001b[1;33m\u001b[0m\u001b[1;33m\u001b[0m\u001b[0m\n\u001b[0;32m      2\u001b[0m \u001b[1;32mfor\u001b[0m \u001b[0mi\u001b[0m \u001b[1;32min\u001b[0m \u001b[0mrange\u001b[0m\u001b[1;33m(\u001b[0m\u001b[0mlen\u001b[0m\u001b[1;33m(\u001b[0m\u001b[0mresult_video\u001b[0m\u001b[1;33m)\u001b[0m\u001b[1;33m)\u001b[0m\u001b[1;33m:\u001b[0m\u001b[1;33m\u001b[0m\u001b[1;33m\u001b[0m\u001b[0m\n\u001b[1;32m----> 3\u001b[1;33m     \u001b[0mout\u001b[0m\u001b[1;33m.\u001b[0m\u001b[0mwrite\u001b[0m\u001b[1;33m(\u001b[0m\u001b[0mresult_video\u001b[0m\u001b[1;33m[\u001b[0m\u001b[0mi\u001b[0m\u001b[1;33m]\u001b[0m\u001b[1;33m)\u001b[0m\u001b[1;33m\u001b[0m\u001b[1;33m\u001b[0m\u001b[0m\n\u001b[0m\u001b[0;32m      4\u001b[0m \u001b[1;33m\u001b[0m\u001b[0m\n\u001b[0;32m      5\u001b[0m \u001b[0mout\u001b[0m\u001b[1;33m.\u001b[0m\u001b[0mrelease\u001b[0m\u001b[1;33m(\u001b[0m\u001b[1;33m)\u001b[0m\u001b[1;33m\u001b[0m\u001b[1;33m\u001b[0m\u001b[0m\n",
      "\u001b[1;31mTypeError\u001b[0m: Expected Ptr<cv::UMat> for argument 'image'"
     ]
    }
   ],
   "source": [
    "out = cv2.VideoWriter(\"output.avi\",cv2.VideoWriter_fourcc(*\"DIVX\"),15,(96,96))\n",
    "for i in range(len(result_video)):\n",
    "    out.write(result_video[i])\n",
    "    \n",
    "out.release()"
   ]
  },
  {
   "cell_type": "code",
   "execution_count": null,
   "metadata": {},
   "outputs": [],
   "source": []
  }
 ],
 "metadata": {
  "kernelspec": {
   "display_name": "Python 3",
   "language": "python",
   "name": "python3"
  },
  "language_info": {
   "codemirror_mode": {
    "name": "ipython",
    "version": 3
   },
   "file_extension": ".py",
   "mimetype": "text/x-python",
   "name": "python",
   "nbconvert_exporter": "python",
   "pygments_lexer": "ipython3",
   "version": "3.7.7"
  }
 },
 "nbformat": 4,
 "nbformat_minor": 4
}
